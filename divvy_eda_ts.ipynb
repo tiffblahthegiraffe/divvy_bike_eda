{
 "cells": [
  {
   "attachments": {},
   "cell_type": "markdown",
   "metadata": {},
   "source": [
    "## Divvy Bike Data<br>\n",
    "<br>\n",
    "\n",
    "The objective of this part of the project is to help the Mayor of Chicago to better understand the ridership of Divvy Bike, a Chicago's bike-sharing system that has continued to grow since its birth in 2013. Furthermore, the mayor is hoping to boost Divvy Bike’s feasibility by adding the trip duration feature into their system. Thus, besides exploratory data analysis, we would build a predictive model which take the start station and destination station as input and return the prediction of trip duration as result.<br>\n",
    "\n",
    "To start the EDA, you'll need to download the Divvy_Stations_2017_Q1Q2.csv, Divvy_Stations_2017_Q3Q4 and Divvy_Trips_2017_Q1 to Q4 datasets from [Divvy Bike Website](https://www.divvybikes.com/system-data) . \n",
    "Also, you need to read in the weather data weather_clean.csv which I downloaded from [NOAA Climate Data](https://www.ncdc.noaa.gov/cdo-web/) and cleaned it.<br>\n",
    "\n",
    "<br>\n",
    "The packages require for EDA include: pandas, numpy, datetime matplotlib, seaborn, geopy. In the end of this notebook, we'll output the Divvy_Trips_Model.csv file for the modeling part of the project.<br>"
   ]
  },
  {
   "cell_type": "code",
   "execution_count": 8,
   "metadata": {},
   "outputs": [],
   "source": [
    "import pandas as pd\n",
    "import numpy as np\n",
    "import datetime\n",
    "\n",
    "import matplotlib.pyplot as plt\n",
    "%matplotlib inline\n",
    "plt.style.use('seaborn')\n",
    "import seaborn as sns\n",
    "\n",
    "from geopy.distance import distance\n",
    "\n",
    "import warnings\n",
    "warnings.filterwarnings(\"ignore\")"
   ]
  },
  {
   "cell_type": "markdown",
   "metadata": {},
   "source": [
    "### Read in datasets"
   ]
  },
  {
   "cell_type": "code",
   "execution_count": 2,
   "metadata": {},
   "outputs": [],
   "source": [
    "# Trips dataset\n",
    "# read in csv file and concat quarterly data into one dataset\n",
    "df1 = pd.read_csv('Divvy_Trips_2017_Q1.csv',parse_dates=['start_time','end_time'])\n",
    "df2 = pd.read_csv('Divvy_Trips_2017_Q2.csv',parse_dates=['start_time','end_time'])\n",
    "df3 = pd.read_csv('Divvy_Trips_2017_Q3.csv',parse_dates=['start_time','end_time'])\n",
    "df4 = pd.read_csv('Divvy_Trips_2017_Q4.csv',parse_dates=['start_time','end_time'])\n",
    "frames = [df1, df2, df3, df4]\n",
    "df = pd.concat(frames)"
   ]
  },
  {
   "cell_type": "code",
   "execution_count": 3,
   "metadata": {},
   "outputs": [],
   "source": [
    "# Stations dataset\n",
    "# read in csv file and concat quarterly data into one dataset\n",
    "st1 = pd.read_csv(\"Divvy_Stations_2017_Q1Q2.csv\",parse_dates=['online_date'])\n",
    "st2 = pd.read_csv(\"Divvy_Stations_2017_Q3Q4.csv\",parse_dates=['online_date'])\n",
    "st2 = st2.drop(columns = [st2.columns[-1]])\n",
    "fr = [st1,st2]\n",
    "st = pd.concat(fr, ignore_index=True)"
   ]
  },
  {
   "cell_type": "code",
   "execution_count": 4,
   "metadata": {},
   "outputs": [],
   "source": [
    "# Weather dataset\n",
    "wh = pd.read_csv('weather_clean.csv',parse_dates=['DATE'])"
   ]
  },
  {
   "cell_type": "markdown",
   "metadata": {},
   "source": [
    "### Prepare the dataset for EDA"
   ]
  },
  {
   "cell_type": "code",
   "execution_count": 185,
   "metadata": {},
   "outputs": [],
   "source": [
    "# modify the datset to do EDA\n",
    "df['age'] = df.birthyear.apply(lambda x: 2017.0-x) # get the age from birthyear\n",
    "df.tripduration = df.tripduration/60.0 # turn trip duration in minutes base\n",
    "df = df.drop('birthyear',axis = 1)"
   ]
  },
  {
   "cell_type": "code",
   "execution_count": 186,
   "metadata": {},
   "outputs": [],
   "source": [
    "# merge the station dataset\n",
    "st2 = st[['id','latitude','longitude']].rename(columns = {'latitude':'from_latitude',\n",
    "                                                          'longitude':'from_longitude'})\n",
    "st3 = st[['id','latitude','longitude']].rename(columns = {'latitude':'to_latitude',\n",
    "                                                          'longitude':'to_longitude'})\n",
    "df = df.merge(st2, how='left', left_on = 'from_station_id', right_on = 'id')\n",
    "df = df.merge(st3, how='left', left_on = 'to_station_id', right_on = 'id')\n",
    "df = df.drop_duplicates(subset=['trip_id']).reset_index(drop=True)\n",
    "df = df.drop(columns=['id_x','id_y'])"
   ]
  },
  {
   "cell_type": "code",
   "execution_count": 189,
   "metadata": {},
   "outputs": [],
   "source": [
    "# calculate distance (miles)\n",
    "def get_distance(x):\n",
    "    '''\n",
    "    This function return travel distance in miles for each row\n",
    "    '''\n",
    "    return distance(x['from'], x['to']).miles\n",
    "\n",
    "df['from'] = list(zip(df.from_latitude, df.from_longitude))\n",
    "df['to'] = list(zip(df.to_latitude, df.to_longitude))\n",
    "df['dis_travel'] = df.apply(get_distance, axis=1)"
   ]
  },
  {
   "cell_type": "code",
   "execution_count": 190,
   "metadata": {},
   "outputs": [],
   "source": [
    "# calculate speed (miles/hr)\n",
    "def get_speed(x):\n",
    "    \"\"\"\n",
    "    This function return the speed of each trip\n",
    "    \"\"\"\n",
    "    return x['dis_travel']/(x['tripduration']/60.0)\n",
    "\n",
    "df['speed'] = df.apply(get_speed,axis=1)"
   ]
  },
  {
   "cell_type": "code",
   "execution_count": 191,
   "metadata": {},
   "outputs": [
    {
     "data": {
      "text/plain": [
       "(3829003, 20)"
      ]
     },
     "execution_count": 191,
     "metadata": {},
     "output_type": "execute_result"
    }
   ],
   "source": [
    "df.shape # now the datasets has 3829003 unique trips entry"
   ]
  },
  {
   "cell_type": "code",
   "execution_count": 192,
   "metadata": {},
   "outputs": [
    {
     "data": {
      "text/plain": [
       "Index(['trip_id', 'start_time', 'end_time', 'bikeid', 'tripduration',\n",
       "       'from_station_id', 'from_station_name', 'to_station_id',\n",
       "       'to_station_name', 'usertype', 'gender', 'age', 'from_latitude',\n",
       "       'from_longitude', 'to_latitude', 'to_longitude', 'from', 'to',\n",
       "       'dis_travel', 'speed'],\n",
       "      dtype='object')"
      ]
     },
     "execution_count": 192,
     "metadata": {},
     "output_type": "execute_result"
    }
   ],
   "source": [
    "df.columns"
   ]
  },
  {
   "cell_type": "markdown",
   "metadata": {},
   "source": [
    "### EDA"
   ]
  },
  {
   "cell_type": "markdown",
   "metadata": {},
   "source": [
    "#### 1)\tTop 5 stations with the most starts (showing # of starts)"
   ]
  },
  {
   "cell_type": "code",
   "execution_count": 193,
   "metadata": {},
   "outputs": [
    {
     "data": {
      "text/html": [
       "<div>\n",
       "<style scoped>\n",
       "    .dataframe tbody tr th:only-of-type {\n",
       "        vertical-align: middle;\n",
       "    }\n",
       "\n",
       "    .dataframe tbody tr th {\n",
       "        vertical-align: top;\n",
       "    }\n",
       "\n",
       "    .dataframe thead th {\n",
       "        text-align: right;\n",
       "    }\n",
       "</style>\n",
       "<table border=\"1\" class=\"dataframe\">\n",
       "  <thead>\n",
       "    <tr style=\"text-align: right;\">\n",
       "      <th></th>\n",
       "      <th>from_station_id</th>\n",
       "      <th>from_station_name</th>\n",
       "      <th>number_of_trips</th>\n",
       "    </tr>\n",
       "  </thead>\n",
       "  <tbody>\n",
       "    <tr>\n",
       "      <th>0</th>\n",
       "      <td>35</td>\n",
       "      <td>Streeter Dr &amp; Grand Ave</td>\n",
       "      <td>97569</td>\n",
       "    </tr>\n",
       "    <tr>\n",
       "      <th>1</th>\n",
       "      <td>76</td>\n",
       "      <td>Lake Shore Dr &amp; Monroe St</td>\n",
       "      <td>53398</td>\n",
       "    </tr>\n",
       "    <tr>\n",
       "      <th>2</th>\n",
       "      <td>192</td>\n",
       "      <td>Canal St &amp; Adams St</td>\n",
       "      <td>50911</td>\n",
       "    </tr>\n",
       "    <tr>\n",
       "      <th>3</th>\n",
       "      <td>91</td>\n",
       "      <td>Clinton St &amp; Washington Blvd</td>\n",
       "      <td>49832</td>\n",
       "    </tr>\n",
       "    <tr>\n",
       "      <th>4</th>\n",
       "      <td>177</td>\n",
       "      <td>Theater on the Lake</td>\n",
       "      <td>47908</td>\n",
       "    </tr>\n",
       "  </tbody>\n",
       "</table>\n",
       "</div>"
      ],
      "text/plain": [
       "   from_station_id             from_station_name  number_of_trips\n",
       "0               35       Streeter Dr & Grand Ave            97569\n",
       "1               76     Lake Shore Dr & Monroe St            53398\n",
       "2              192           Canal St & Adams St            50911\n",
       "3               91  Clinton St & Washington Blvd            49832\n",
       "4              177           Theater on the Lake            47908"
      ]
     },
     "execution_count": 193,
     "metadata": {},
     "output_type": "execute_result"
    }
   ],
   "source": [
    "q1 = pd.DataFrame(df.groupby(['from_station_id','from_station_name'])['from_station_name'].count().sort_values(ascending=False).head())\n",
    "q1 = q1.rename(columns = {'from_station_name':'number_of_trips'}).reset_index()\n",
    "q1"
   ]
  },
  {
   "cell_type": "code",
   "execution_count": 194,
   "metadata": {},
   "outputs": [
    {
     "data": {
      "text/plain": [
       "Text(0.5, 1.0, 'Top 5 Start Stations')"
      ]
     },
     "execution_count": 194,
     "metadata": {},
     "output_type": "execute_result"
    },
    {
     "data": {
      "image/png": "[encoded data removed]",
      "text/plain": [
       "<Figure size 576x396 with 1 Axes>"
      ]
     },
     "metadata": {},
     "output_type": "display_data"
    }
   ],
   "source": [
    "plt.bar(q1.from_station_name,q1.number_of_trips, color =sns.color_palette(\"Blues_d\",5), alpha = 0.85)\n",
    "plt.xticks(rotation=30)\n",
    "plt.xlabel('From Station', fontsize = 13, weight = 'bold')\n",
    "plt.ylabel('# of Trips', fontsize = 13, weight = 'bold')\n",
    "plt.title('Top 5 Start Stations', fontsize = 15, weight = 'bold')"
   ]
  },
  {
   "cell_type": "markdown",
   "metadata": {},
   "source": [
    "#### 2)\tTrip duration by user type"
   ]
  },
  {
   "cell_type": "code",
   "execution_count": 195,
   "metadata": {},
   "outputs": [
    {
     "data": {
      "text/html": [
       "<div>\n",
       "<style scoped>\n",
       "    .dataframe tbody tr th:only-of-type {\n",
       "        vertical-align: middle;\n",
       "    }\n",
       "\n",
       "    .dataframe tbody tr th {\n",
       "        vertical-align: top;\n",
       "    }\n",
       "\n",
       "    .dataframe thead th {\n",
       "        text-align: right;\n",
       "    }\n",
       "</style>\n",
       "<table border=\"1\" class=\"dataframe\">\n",
       "  <thead>\n",
       "    <tr style=\"text-align: right;\">\n",
       "      <th></th>\n",
       "      <th>total_trips_number</th>\n",
       "      <th>avg_minutes</th>\n",
       "      <th>median_minutes</th>\n",
       "      <th>total_hours</th>\n",
       "    </tr>\n",
       "    <tr>\n",
       "      <th>usertype</th>\n",
       "      <th></th>\n",
       "      <th></th>\n",
       "      <th></th>\n",
       "      <th></th>\n",
       "    </tr>\n",
       "  </thead>\n",
       "  <tbody>\n",
       "    <tr>\n",
       "      <th>Customer</th>\n",
       "      <td>836861.0</td>\n",
       "      <td>30.934833</td>\n",
       "      <td>22.816667</td>\n",
       "      <td>431469.260278</td>\n",
       "    </tr>\n",
       "    <tr>\n",
       "      <th>Dependent</th>\n",
       "      <td>7.0</td>\n",
       "      <td>12.530952</td>\n",
       "      <td>13.400000</td>\n",
       "      <td>1.461944</td>\n",
       "    </tr>\n",
       "    <tr>\n",
       "      <th>Subscriber</th>\n",
       "      <td>2992135.0</td>\n",
       "      <td>11.729794</td>\n",
       "      <td>9.533333</td>\n",
       "      <td>584952.101667</td>\n",
       "    </tr>\n",
       "  </tbody>\n",
       "</table>\n",
       "</div>"
      ],
      "text/plain": [
       "            total_trips_number  avg_minutes  median_minutes    total_hours\n",
       "usertype                                                                  \n",
       "Customer              836861.0    30.934833       22.816667  431469.260278\n",
       "Dependent                  7.0    12.530952       13.400000       1.461944\n",
       "Subscriber           2992135.0    11.729794        9.533333  584952.101667"
      ]
     },
     "execution_count": 195,
     "metadata": {},
     "output_type": "execute_result"
    }
   ],
   "source": [
    "q2_mean = df.groupby('usertype').tripduration.describe().iloc[:,[0,1,5]]\n",
    "q2_total_hour = df.groupby('usertype').tripduration.sum()/60\n",
    "q2 = q2_mean.join(q2_total_hour)\n",
    "q2 = q2.rename(columns = {'count': 'total_trips_number',\n",
    "                        'mean':'avg_minutes',\n",
    "                         '50%': 'median_minutes',\n",
    "                         'tripduration': 'total_hours'})\n",
    "q2"
   ]
  },
  {
   "cell_type": "markdown",
   "metadata": {},
   "source": [
    "#### 3)\tMost popular trips based on start station and stop station"
   ]
  },
  {
   "cell_type": "code",
   "execution_count": 196,
   "metadata": {},
   "outputs": [
    {
     "data": {
      "text/html": [
       "<div>\n",
       "<style scoped>\n",
       "    .dataframe tbody tr th:only-of-type {\n",
       "        vertical-align: middle;\n",
       "    }\n",
       "\n",
       "    .dataframe tbody tr th {\n",
       "        vertical-align: top;\n",
       "    }\n",
       "\n",
       "    .dataframe thead th {\n",
       "        text-align: right;\n",
       "    }\n",
       "</style>\n",
       "<table border=\"1\" class=\"dataframe\">\n",
       "  <thead>\n",
       "    <tr style=\"text-align: right;\">\n",
       "      <th></th>\n",
       "      <th></th>\n",
       "      <th>to_station_name</th>\n",
       "    </tr>\n",
       "    <tr>\n",
       "      <th>from_station_name</th>\n",
       "      <th>to_station_name</th>\n",
       "      <th></th>\n",
       "    </tr>\n",
       "  </thead>\n",
       "  <tbody>\n",
       "    <tr>\n",
       "      <th>Lake Shore Dr &amp; Monroe St</th>\n",
       "      <th>Streeter Dr &amp; Grand Ave</th>\n",
       "      <td>12171</td>\n",
       "    </tr>\n",
       "    <tr>\n",
       "      <th rowspan=\"3\" valign=\"top\">Streeter Dr &amp; Grand Ave</th>\n",
       "      <th>Streeter Dr &amp; Grand Ave</th>\n",
       "      <td>10042</td>\n",
       "    </tr>\n",
       "    <tr>\n",
       "      <th>Theater on the Lake</th>\n",
       "      <td>8180</td>\n",
       "    </tr>\n",
       "    <tr>\n",
       "      <th>Lake Shore Dr &amp; North Blvd</th>\n",
       "      <td>7993</td>\n",
       "    </tr>\n",
       "    <tr>\n",
       "      <th>Lake Shore Dr &amp; North Blvd</th>\n",
       "      <th>Streeter Dr &amp; Grand Ave</th>\n",
       "      <td>7226</td>\n",
       "    </tr>\n",
       "  </tbody>\n",
       "</table>\n",
       "</div>"
      ],
      "text/plain": [
       "                                                       to_station_name\n",
       "from_station_name          to_station_name                            \n",
       "Lake Shore Dr & Monroe St  Streeter Dr & Grand Ave               12171\n",
       "Streeter Dr & Grand Ave    Streeter Dr & Grand Ave               10042\n",
       "                           Theater on the Lake                    8180\n",
       "                           Lake Shore Dr & North Blvd             7993\n",
       "Lake Shore Dr & North Blvd Streeter Dr & Grand Ave                7226"
      ]
     },
     "execution_count": 196,
     "metadata": {},
     "output_type": "execute_result"
    }
   ],
   "source": [
    "q3 = pd.DataFrame(df.groupby(['from_station_name', 'to_station_name'])['to_station_name'].count().sort_values(ascending=False).head())\n",
    "q3"
   ]
  },
  {
   "cell_type": "markdown",
   "metadata": {},
   "source": [
    "#### 5)\tWhat is the busiest bike in Chicago in 2017? How many times was it used? How many minutes was it in use?"
   ]
  },
  {
   "cell_type": "code",
   "execution_count": 197,
   "metadata": {},
   "outputs": [],
   "source": [
    "q5 = df.pivot_table(index = 'bikeid',\n",
    "                   values=['trip_id','tripduration'],\n",
    "                   aggfunc={'trip_id':'count','tripduration':np.sum}).rename(columns = {'trip_id':'times_used'})"
   ]
  },
  {
   "cell_type": "code",
   "execution_count": 198,
   "metadata": {},
   "outputs": [
    {
     "data": {
      "text/html": [
       "<div>\n",
       "<style scoped>\n",
       "    .dataframe tbody tr th:only-of-type {\n",
       "        vertical-align: middle;\n",
       "    }\n",
       "\n",
       "    .dataframe tbody tr th {\n",
       "        vertical-align: top;\n",
       "    }\n",
       "\n",
       "    .dataframe thead th {\n",
       "        text-align: right;\n",
       "    }\n",
       "</style>\n",
       "<table border=\"1\" class=\"dataframe\">\n",
       "  <thead>\n",
       "    <tr style=\"text-align: right;\">\n",
       "      <th></th>\n",
       "      <th>times_used</th>\n",
       "      <th>tripduration</th>\n",
       "    </tr>\n",
       "    <tr>\n",
       "      <th>bikeid</th>\n",
       "      <th></th>\n",
       "      <th></th>\n",
       "    </tr>\n",
       "  </thead>\n",
       "  <tbody>\n",
       "    <tr>\n",
       "      <th>2565</th>\n",
       "      <td>1489</td>\n",
       "      <td>22526.416667</td>\n",
       "    </tr>\n",
       "    <tr>\n",
       "      <th>3308</th>\n",
       "      <td>1234</td>\n",
       "      <td>17662.633333</td>\n",
       "    </tr>\n",
       "    <tr>\n",
       "      <th>3489</th>\n",
       "      <td>1225</td>\n",
       "      <td>17617.466667</td>\n",
       "    </tr>\n",
       "    <tr>\n",
       "      <th>3128</th>\n",
       "      <td>1210</td>\n",
       "      <td>18244.300000</td>\n",
       "    </tr>\n",
       "    <tr>\n",
       "      <th>5880</th>\n",
       "      <td>1177</td>\n",
       "      <td>20693.900000</td>\n",
       "    </tr>\n",
       "  </tbody>\n",
       "</table>\n",
       "</div>"
      ],
      "text/plain": [
       "        times_used  tripduration\n",
       "bikeid                          \n",
       "2565          1489  22526.416667\n",
       "3308          1234  17662.633333\n",
       "3489          1225  17617.466667\n",
       "3128          1210  18244.300000\n",
       "5880          1177  20693.900000"
      ]
     },
     "execution_count": 198,
     "metadata": {},
     "output_type": "execute_result"
    }
   ],
   "source": [
    "q5.sort_values(by= 'times_used',ascending = False).head()"
   ]
  },
  {
   "cell_type": "code",
   "execution_count": 199,
   "metadata": {
    "scrolled": true
   },
   "outputs": [
    {
     "data": {
      "text/html": [
       "<div>\n",
       "<style scoped>\n",
       "    .dataframe tbody tr th:only-of-type {\n",
       "        vertical-align: middle;\n",
       "    }\n",
       "\n",
       "    .dataframe tbody tr th {\n",
       "        vertical-align: top;\n",
       "    }\n",
       "\n",
       "    .dataframe thead th {\n",
       "        text-align: right;\n",
       "    }\n",
       "</style>\n",
       "<table border=\"1\" class=\"dataframe\">\n",
       "  <thead>\n",
       "    <tr style=\"text-align: right;\">\n",
       "      <th></th>\n",
       "      <th>times_used</th>\n",
       "      <th>tripduration</th>\n",
       "    </tr>\n",
       "    <tr>\n",
       "      <th>bikeid</th>\n",
       "      <th></th>\n",
       "      <th></th>\n",
       "    </tr>\n",
       "  </thead>\n",
       "  <tbody>\n",
       "    <tr>\n",
       "      <th>2565</th>\n",
       "      <td>1489</td>\n",
       "      <td>22526.416667</td>\n",
       "    </tr>\n",
       "    <tr>\n",
       "      <th>5880</th>\n",
       "      <td>1177</td>\n",
       "      <td>20693.900000</td>\n",
       "    </tr>\n",
       "    <tr>\n",
       "      <th>5293</th>\n",
       "      <td>1049</td>\n",
       "      <td>19865.416667</td>\n",
       "    </tr>\n",
       "    <tr>\n",
       "      <th>5479</th>\n",
       "      <td>1044</td>\n",
       "      <td>19569.183333</td>\n",
       "    </tr>\n",
       "    <tr>\n",
       "      <th>5731</th>\n",
       "      <td>1027</td>\n",
       "      <td>19356.550000</td>\n",
       "    </tr>\n",
       "  </tbody>\n",
       "</table>\n",
       "</div>"
      ],
      "text/plain": [
       "        times_used  tripduration\n",
       "bikeid                          \n",
       "2565          1489  22526.416667\n",
       "5880          1177  20693.900000\n",
       "5293          1049  19865.416667\n",
       "5479          1044  19569.183333\n",
       "5731          1027  19356.550000"
      ]
     },
     "execution_count": 199,
     "metadata": {},
     "output_type": "execute_result"
    }
   ],
   "source": [
    "q5.sort_values(by= 'tripduration',ascending = False).head()"
   ]
  },
  {
   "cell_type": "markdown",
   "metadata": {},
   "source": [
    "#### 4) Rider performance by Gender and Age based on avg trip distance (station to station), median speed (distance traveled / trip duration)"
   ]
  },
  {
   "cell_type": "code",
   "execution_count": 211,
   "metadata": {},
   "outputs": [
    {
     "data": {
      "text/plain": [
       "trip_id              0\n",
       "start_time           0\n",
       "end_time             0\n",
       "bikeid               0\n",
       "tripduration         0\n",
       "from_station_id      0\n",
       "from_station_name    0\n",
       "to_station_id        0\n",
       "to_station_name      0\n",
       "usertype             0\n",
       "gender               0\n",
       "age                  0\n",
       "from_latitude        0\n",
       "from_longitude       0\n",
       "to_latitude          0\n",
       "to_longitude         0\n",
       "from                 0\n",
       "to                   0\n",
       "dis_travel           0\n",
       "speed                0\n",
       "dtype: int64"
      ]
     },
     "execution_count": 211,
     "metadata": {},
     "output_type": "execute_result"
    }
   ],
   "source": [
    "df.isnull().sum(0) #there missing values for gender and age"
   ]
  },
  {
   "cell_type": "code",
   "execution_count": 204,
   "metadata": {},
   "outputs": [
    {
     "data": {
      "text/plain": [
       "(2991940, 20)"
      ]
     },
     "execution_count": 204,
     "metadata": {},
     "output_type": "execute_result"
    }
   ],
   "source": [
    "df = df.dropna() # drop missing value \n",
    "df.shape"
   ]
  },
  {
   "cell_type": "code",
   "execution_count": 205,
   "metadata": {},
   "outputs": [],
   "source": [
    "df['age_bin'] = pd.cut(df.age, [17,25,35,45,55,65,70],\n",
    "                       labels=['17-25','25-35','35-45','45-55','55-65', '65-70'])"
   ]
  },
  {
   "cell_type": "code",
   "execution_count": 206,
   "metadata": {},
   "outputs": [
    {
     "data": {
      "text/html": [
       "<div>\n",
       "<style scoped>\n",
       "    .dataframe tbody tr th:only-of-type {\n",
       "        vertical-align: middle;\n",
       "    }\n",
       "\n",
       "    .dataframe tbody tr th {\n",
       "        vertical-align: top;\n",
       "    }\n",
       "\n",
       "    .dataframe thead th {\n",
       "        text-align: right;\n",
       "    }\n",
       "</style>\n",
       "<table border=\"1\" class=\"dataframe\">\n",
       "  <thead>\n",
       "    <tr style=\"text-align: right;\">\n",
       "      <th></th>\n",
       "      <th></th>\n",
       "      <th>avg_trip_distance</th>\n",
       "      <th>median_speed</th>\n",
       "    </tr>\n",
       "    <tr>\n",
       "      <th>gender</th>\n",
       "      <th>age_bin</th>\n",
       "      <th></th>\n",
       "      <th></th>\n",
       "    </tr>\n",
       "  </thead>\n",
       "  <tbody>\n",
       "    <tr>\n",
       "      <th rowspan=\"6\" valign=\"top\">Female</th>\n",
       "      <th>17-25</th>\n",
       "      <td>1.228757</td>\n",
       "      <td>6.070789</td>\n",
       "    </tr>\n",
       "    <tr>\n",
       "      <th>25-35</th>\n",
       "      <td>1.290867</td>\n",
       "      <td>6.266724</td>\n",
       "    </tr>\n",
       "    <tr>\n",
       "      <th>35-45</th>\n",
       "      <td>1.258462</td>\n",
       "      <td>6.031107</td>\n",
       "    </tr>\n",
       "    <tr>\n",
       "      <th>45-55</th>\n",
       "      <td>1.164763</td>\n",
       "      <td>5.719001</td>\n",
       "    </tr>\n",
       "    <tr>\n",
       "      <th>55-65</th>\n",
       "      <td>1.086648</td>\n",
       "      <td>5.344535</td>\n",
       "    </tr>\n",
       "    <tr>\n",
       "      <th>65-70</th>\n",
       "      <td>1.085501</td>\n",
       "      <td>4.808871</td>\n",
       "    </tr>\n",
       "    <tr>\n",
       "      <th rowspan=\"6\" valign=\"top\">Male</th>\n",
       "      <th>17-25</th>\n",
       "      <td>1.095335</td>\n",
       "      <td>6.547530</td>\n",
       "    </tr>\n",
       "    <tr>\n",
       "      <th>25-35</th>\n",
       "      <td>1.221737</td>\n",
       "      <td>6.758215</td>\n",
       "    </tr>\n",
       "    <tr>\n",
       "      <th>35-45</th>\n",
       "      <td>1.203442</td>\n",
       "      <td>6.567169</td>\n",
       "    </tr>\n",
       "    <tr>\n",
       "      <th>45-55</th>\n",
       "      <td>1.106708</td>\n",
       "      <td>6.269364</td>\n",
       "    </tr>\n",
       "    <tr>\n",
       "      <th>55-65</th>\n",
       "      <td>1.021563</td>\n",
       "      <td>5.788530</td>\n",
       "    </tr>\n",
       "    <tr>\n",
       "      <th>65-70</th>\n",
       "      <td>0.994409</td>\n",
       "      <td>5.455539</td>\n",
       "    </tr>\n",
       "  </tbody>\n",
       "</table>\n",
       "</div>"
      ],
      "text/plain": [
       "                avg_trip_distance  median_speed\n",
       "gender age_bin                                 \n",
       "Female 17-25             1.228757      6.070789\n",
       "       25-35             1.290867      6.266724\n",
       "       35-45             1.258462      6.031107\n",
       "       45-55             1.164763      5.719001\n",
       "       55-65             1.086648      5.344535\n",
       "       65-70             1.085501      4.808871\n",
       "Male   17-25             1.095335      6.547530\n",
       "       25-35             1.221737      6.758215\n",
       "       35-45             1.203442      6.567169\n",
       "       45-55             1.106708      6.269364\n",
       "       55-65             1.021563      5.788530\n",
       "       65-70             0.994409      5.455539"
      ]
     },
     "execution_count": 206,
     "metadata": {},
     "output_type": "execute_result"
    }
   ],
   "source": [
    "q4 = df.pivot_table(index=['gender','age_bin'], \n",
    "                    values=['speed','dis_travel'],\n",
    "                    aggfunc={'speed':'median','dis_travel':'mean'}).rename(columns = {'dis_travel':'avg_trip_distance',\n",
    "                                                                                      'speed':'median_speed'})\n",
    "q4"
   ]
  },
  {
   "cell_type": "code",
   "execution_count": 207,
   "metadata": {},
   "outputs": [
    {
     "data": {
      "text/plain": [
       "Text(0.5, 1.0, 'Avg Trip Distance')"
      ]
     },
     "execution_count": 207,
     "metadata": {},
     "output_type": "execute_result"
    },
    {
     "data": {
      "image/png": "[encoded data removed]",
      "text/plain": [
       "<Figure size 576x396 with 1 Axes>"
      ]
     },
     "metadata": {},
     "output_type": "display_data"
    }
   ],
   "source": [
    "dis = df.pivot_table(index='age_bin', \n",
    "               columns='gender', \n",
    "               values='dis_travel',aggfunc='mean')\n",
    "dis.plot.bar(color=['pink','lightblue'])\n",
    "plt.xticks(rotation=30)\n",
    "plt.xlabel('Ages', fontsize = 13, weight = 'bold')\n",
    "plt.ylabel('Avg Distance (miles)', fontsize = 13, weight = 'bold')\n",
    "plt.title('Avg Trip Distance', fontsize = 15, weight = 'bold')"
   ]
  },
  {
   "cell_type": "code",
   "execution_count": 208,
   "metadata": {},
   "outputs": [
    {
     "data": {
      "text/plain": [
       "Text(0.5, 1.0, 'Median Speed')"
      ]
     },
     "execution_count": 208,
     "metadata": {},
     "output_type": "execute_result"
    },
    {
     "data": {
      "image/png": "[encoded data removed]",
      "text/plain": [
       "<Figure size 576x396 with 1 Axes>"
      ]
     },
     "metadata": {},
     "output_type": "display_data"
    }
   ],
   "source": [
    "sp = df.pivot_table(index='age_bin', \n",
    "               columns='gender', \n",
    "               values='speed',aggfunc='median')\n",
    "sp.plot.bar(color=['pink','lightblue'])\n",
    "plt.xticks(rotation=30)\n",
    "plt.xlabel('Ages', fontsize = 13, weight = 'bold')\n",
    "plt.ylabel('Median Speed (miles/hr)', fontsize = 13, weight = 'bold')\n",
    "plt.title('Median Speed', fontsize = 15, weight = 'bold')"
   ]
  },
  {
   "cell_type": "code",
   "execution_count": 209,
   "metadata": {},
   "outputs": [],
   "source": [
    "df = df.drop('age_bin', axis = 1) # drop the age_bin column becasue we don't need it in the following analysis"
   ]
  },
  {
   "cell_type": "markdown",
   "metadata": {},
   "source": [
    "### Data Pre-processing"
   ]
  },
  {
   "cell_type": "code",
   "execution_count": null,
   "metadata": {},
   "outputs": [],
   "source": [
    "#missing value: already drop"
   ]
  },
  {
   "cell_type": "code",
   "execution_count": 212,
   "metadata": {},
   "outputs": [],
   "source": [
    "# feature engineering\n",
    "holiday = ['2017-01-02', '2017-01-16', '2017-02-20', '2017-05-29', '2017-07-04', \n",
    "           '2017-09-04', '2017-10-09', '2017-11-10', '2017-11-23', '2017-12-25']\n",
    "\n",
    "df['month'] = df['start_time'].dt.month\n",
    "df['day'] = df['start_time'].dt.dayofweek\n",
    "df['hour'] = df['start_time'].dt.hour\n",
    "df['weekend'] = np.where(df.day > 4 , 1, 0)\n",
    "df['holiday'] = np.where(df.start_time.isin(holiday) , 1, 0)"
   ]
  },
  {
   "cell_type": "code",
   "execution_count": 213,
   "metadata": {},
   "outputs": [],
   "source": [
    "# merge with weather data\n",
    "df = df.sort_values(by = 'start_time')\n",
    "df = pd.merge_asof(df,wh,left_on='start_time',right_on='DATE',\n",
    "                   tolerance=pd.Timedelta('1 days'),\n",
    "                   direction='nearest')"
   ]
  },
  {
   "cell_type": "code",
   "execution_count": 215,
   "metadata": {},
   "outputs": [
    {
     "data": {
      "text/html": [
       "<div>\n",
       "<style scoped>\n",
       "    .dataframe tbody tr th:only-of-type {\n",
       "        vertical-align: middle;\n",
       "    }\n",
       "\n",
       "    .dataframe tbody tr th {\n",
       "        vertical-align: top;\n",
       "    }\n",
       "\n",
       "    .dataframe thead th {\n",
       "        text-align: right;\n",
       "    }\n",
       "</style>\n",
       "<table border=\"1\" class=\"dataframe\">\n",
       "  <thead>\n",
       "    <tr style=\"text-align: right;\">\n",
       "      <th></th>\n",
       "      <th>age</th>\n",
       "      <th>tripduration</th>\n",
       "    </tr>\n",
       "  </thead>\n",
       "  <tbody>\n",
       "    <tr>\n",
       "      <th>count</th>\n",
       "      <td>2991940.00</td>\n",
       "      <td>2991940.00</td>\n",
       "    </tr>\n",
       "    <tr>\n",
       "      <th>mean</th>\n",
       "      <td>35.41</td>\n",
       "      <td>11.73</td>\n",
       "    </tr>\n",
       "    <tr>\n",
       "      <th>std</th>\n",
       "      <td>10.88</td>\n",
       "      <td>15.86</td>\n",
       "    </tr>\n",
       "    <tr>\n",
       "      <th>min</th>\n",
       "      <td>0.00</td>\n",
       "      <td>1.00</td>\n",
       "    </tr>\n",
       "    <tr>\n",
       "      <th>25%</th>\n",
       "      <td>27.00</td>\n",
       "      <td>5.93</td>\n",
       "    </tr>\n",
       "    <tr>\n",
       "      <th>50%</th>\n",
       "      <td>32.00</td>\n",
       "      <td>9.53</td>\n",
       "    </tr>\n",
       "    <tr>\n",
       "      <th>75%</th>\n",
       "      <td>41.00</td>\n",
       "      <td>15.13</td>\n",
       "    </tr>\n",
       "    <tr>\n",
       "      <th>max</th>\n",
       "      <td>118.00</td>\n",
       "      <td>1434.93</td>\n",
       "    </tr>\n",
       "  </tbody>\n",
       "</table>\n",
       "</div>"
      ],
      "text/plain": [
       "              age tripduration\n",
       "count  2991940.00   2991940.00\n",
       "mean        35.41        11.73\n",
       "std         10.88        15.86\n",
       "min          0.00         1.00\n",
       "25%         27.00         5.93\n",
       "50%         32.00         9.53\n",
       "75%         41.00        15.13\n",
       "max        118.00      1434.93"
      ]
     },
     "execution_count": 215,
     "metadata": {},
     "output_type": "execute_result"
    }
   ],
   "source": [
    "# skew data\n",
    "df[['age','tripduration']].describe().apply(lambda x: x.apply(lambda y: \"{:.2f}\".format(y)))"
   ]
  },
  {
   "cell_type": "markdown",
   "metadata": {},
   "source": [
    "Policy on Divvy Bike: <br>\n",
    "1. Divvy for Everyone is available to Chicago and Evanston residents ages 16 and older who qualify.\n",
    "2. Time limits specified in your membership plan: 30 minutes for single ride, 3 hours for day passes and 45 minutes for annual members. Rides that go beyond those times are subject to additional fees.If you’re nearing the ride limit (30 minutes for Single Rides, 3 hours for Day Pass holders, or 45 minutes for Annual Members), we’d be happy to offer you an extra 15 minutes to find a dock"
   ]
  },
  {
   "cell_type": "code",
   "execution_count": 236,
   "metadata": {},
   "outputs": [],
   "source": [
    "# age should be within 16-70 years old \n",
    "df = df[(df.age >= 16) & (df.age <= 70)]\n",
    "\n",
    "# max time shouldn't be more than 180+15 mins\n",
    "df = df[df.tripduration < 195]\n",
    "\n",
    "# speed shouldn't be 0.0 or above 20 mph\n",
    "df = df[(df.speed > 0.0) & (df.speed <= 20.0)]\n",
    "\n",
    "# Log transform for tripduration and dis_travel\n",
    "df['log_tripduration'] = np.log(df.tripduration)\n",
    "df['log_dis_travel'] = np.log(df.dis_travel)\n",
    "\n",
    "# drop 'Dependent' usertype\n",
    "df = df[df.usertype != 'Dependent']"
   ]
  },
  {
   "cell_type": "code",
   "execution_count": 232,
   "metadata": {},
   "outputs": [
    {
     "data": {
      "text/plain": [
       "<matplotlib.axes._subplots.AxesSubplot at 0x1c356a77f0>"
      ]
     },
     "execution_count": 232,
     "metadata": {},
     "output_type": "execute_result"
    },
    {
     "data": {
      "image/png": "[encoded data removed]",
      "text/plain": [
       "<Figure size 576x396 with 1 Axes>"
      ]
     },
     "metadata": {},
     "output_type": "display_data"
    }
   ],
   "source": [
    "sns.distplot(df.tripduration, hist=True, kde=True, color = 'darkblue', \n",
    "             hist_kws={'edgecolor':'black'},\n",
    "             kde_kws={'linewidth': 2})"
   ]
  },
  {
   "cell_type": "code",
   "execution_count": 231,
   "metadata": {},
   "outputs": [
    {
     "data": {
      "text/plain": [
       "<matplotlib.axes._subplots.AxesSubplot at 0x1c356a76d8>"
      ]
     },
     "execution_count": 231,
     "metadata": {},
     "output_type": "execute_result"
    },
    {
     "data": {
      "image/png": "[encoded data removed]",
      "text/plain": [
       "<Figure size 576x396 with 1 Axes>"
      ]
     },
     "metadata": {},
     "output_type": "display_data"
    }
   ],
   "source": [
    "sns.distplot(np.log(df.tripduration), hist=True, kde=True, color = 'darkgreen', \n",
    "             hist_kws={'edgecolor':'black'},\n",
    "             kde_kws={'linewidth': 2})"
   ]
  },
  {
   "cell_type": "code",
   "execution_count": 237,
   "metadata": {},
   "outputs": [
    {
     "data": {
      "text/plain": [
       "<matplotlib.axes._subplots.AxesSubplot at 0x1e2f35d390>"
      ]
     },
     "execution_count": 237,
     "metadata": {},
     "output_type": "execute_result"
    },
    {
     "data": {
      "image/png": "[encoded data removed]",
      "text/plain": [
       "<Figure size 576x396 with 1 Axes>"
      ]
     },
     "metadata": {},
     "output_type": "display_data"
    }
   ],
   "source": [
    "sns.distplot(df.speed, hist=True, kde=True, color = 'darkblue', \n",
    "             hist_kws={'edgecolor':'black'},\n",
    "             kde_kws={'linewidth': 2})"
   ]
  },
  {
   "cell_type": "code",
   "execution_count": 238,
   "metadata": {},
   "outputs": [
    {
     "data": {
      "text/plain": [
       "<matplotlib.axes._subplots.AxesSubplot at 0x1c29db5780>"
      ]
     },
     "execution_count": 238,
     "metadata": {},
     "output_type": "execute_result"
    },
    {
     "data": {
      "image/png": "[encoded data removed]",
      "text/plain": [
       "<Figure size 576x396 with 1 Axes>"
      ]
     },
     "metadata": {},
     "output_type": "display_data"
    }
   ],
   "source": [
    "sns.distplot(df.dis_travel, hist=True, kde=True, color = 'darkblue', \n",
    "             hist_kws={'edgecolor':'black'},\n",
    "             kde_kws={'linewidth': 2})"
   ]
  },
  {
   "cell_type": "code",
   "execution_count": 239,
   "metadata": {
    "scrolled": true
   },
   "outputs": [
    {
     "data": {
      "text/plain": [
       "<matplotlib.axes._subplots.AxesSubplot at 0x1c77c2df28>"
      ]
     },
     "execution_count": 239,
     "metadata": {},
     "output_type": "execute_result"
    },
    {
     "data": {
      "image/png": "[encoded data removed]",
      "text/plain": [
       "<Figure size 576x396 with 1 Axes>"
      ]
     },
     "metadata": {},
     "output_type": "display_data"
    }
   ],
   "source": [
    "sns.distplot(df.log_dis_travel, hist=True, kde=True, color = 'darkgreen', \n",
    "             hist_kws={'edgecolor':'black'},\n",
    "             kde_kws={'linewidth': 2})"
   ]
  },
  {
   "cell_type": "code",
   "execution_count": 225,
   "metadata": {},
   "outputs": [],
   "source": [
    "# One-hot encoding for usertype and gender\n",
    "df = pd.get_dummies(df, columns=['usertype','gender'],prefix=['user','gender'])"
   ]
  },
  {
   "cell_type": "code",
   "execution_count": 226,
   "metadata": {},
   "outputs": [
    {
     "data": {
      "text/html": [
       "<div>\n",
       "<style scoped>\n",
       "    .dataframe tbody tr th:only-of-type {\n",
       "        vertical-align: middle;\n",
       "    }\n",
       "\n",
       "    .dataframe tbody tr th {\n",
       "        vertical-align: top;\n",
       "    }\n",
       "\n",
       "    .dataframe thead th {\n",
       "        text-align: right;\n",
       "    }\n",
       "</style>\n",
       "<table border=\"1\" class=\"dataframe\">\n",
       "  <thead>\n",
       "    <tr style=\"text-align: right;\">\n",
       "      <th></th>\n",
       "      <th>trip_id</th>\n",
       "      <th>start_time</th>\n",
       "      <th>end_time</th>\n",
       "      <th>bikeid</th>\n",
       "      <th>tripduration</th>\n",
       "      <th>from_station_id</th>\n",
       "      <th>from_station_name</th>\n",
       "      <th>to_station_id</th>\n",
       "      <th>to_station_name</th>\n",
       "      <th>age</th>\n",
       "      <th>...</th>\n",
       "      <th>hour</th>\n",
       "      <th>weekend</th>\n",
       "      <th>holiday</th>\n",
       "      <th>DATE</th>\n",
       "      <th>TAVG</th>\n",
       "      <th>log_tripduration</th>\n",
       "      <th>user_Customer</th>\n",
       "      <th>user_Subscriber</th>\n",
       "      <th>gender_Female</th>\n",
       "      <th>gender_Male</th>\n",
       "    </tr>\n",
       "  </thead>\n",
       "  <tbody>\n",
       "    <tr>\n",
       "      <th>0</th>\n",
       "      <td>12979231</td>\n",
       "      <td>2017-01-01 00:02:54</td>\n",
       "      <td>2017-01-01 00:08:21</td>\n",
       "      <td>3660</td>\n",
       "      <td>5.450000</td>\n",
       "      <td>28</td>\n",
       "      <td>Larrabee St &amp; Menomonee St</td>\n",
       "      <td>20</td>\n",
       "      <td>Sheffield Ave &amp; Kingsbury St</td>\n",
       "      <td>33.0</td>\n",
       "      <td>...</td>\n",
       "      <td>0</td>\n",
       "      <td>1</td>\n",
       "      <td>0</td>\n",
       "      <td>2017-01-01</td>\n",
       "      <td>27.0</td>\n",
       "      <td>1.695616</td>\n",
       "      <td>0</td>\n",
       "      <td>1</td>\n",
       "      <td>0</td>\n",
       "      <td>1</td>\n",
       "    </tr>\n",
       "    <tr>\n",
       "      <th>1</th>\n",
       "      <td>12979232</td>\n",
       "      <td>2017-01-01 00:06:06</td>\n",
       "      <td>2017-01-01 00:18:31</td>\n",
       "      <td>4992</td>\n",
       "      <td>12.416667</td>\n",
       "      <td>620</td>\n",
       "      <td>Orleans St &amp; Chestnut St (NEXT Apts)</td>\n",
       "      <td>333</td>\n",
       "      <td>Ashland Ave &amp; Blackhawk St</td>\n",
       "      <td>32.0</td>\n",
       "      <td>...</td>\n",
       "      <td>0</td>\n",
       "      <td>1</td>\n",
       "      <td>0</td>\n",
       "      <td>2017-01-01</td>\n",
       "      <td>27.0</td>\n",
       "      <td>2.519040</td>\n",
       "      <td>0</td>\n",
       "      <td>1</td>\n",
       "      <td>0</td>\n",
       "      <td>1</td>\n",
       "    </tr>\n",
       "    <tr>\n",
       "      <th>2</th>\n",
       "      <td>12979233</td>\n",
       "      <td>2017-01-01 00:07:28</td>\n",
       "      <td>2017-01-01 00:12:51</td>\n",
       "      <td>5637</td>\n",
       "      <td>5.383333</td>\n",
       "      <td>287</td>\n",
       "      <td>Franklin St &amp; Monroe St</td>\n",
       "      <td>68</td>\n",
       "      <td>Clinton St &amp; Tilden St</td>\n",
       "      <td>27.0</td>\n",
       "      <td>...</td>\n",
       "      <td>0</td>\n",
       "      <td>1</td>\n",
       "      <td>0</td>\n",
       "      <td>2017-01-01</td>\n",
       "      <td>27.0</td>\n",
       "      <td>1.683308</td>\n",
       "      <td>0</td>\n",
       "      <td>1</td>\n",
       "      <td>0</td>\n",
       "      <td>1</td>\n",
       "    </tr>\n",
       "    <tr>\n",
       "      <th>3</th>\n",
       "      <td>12979234</td>\n",
       "      <td>2017-01-01 00:07:57</td>\n",
       "      <td>2017-01-01 00:20:53</td>\n",
       "      <td>2209</td>\n",
       "      <td>12.933333</td>\n",
       "      <td>300</td>\n",
       "      <td>Broadway &amp; Barry Ave</td>\n",
       "      <td>118</td>\n",
       "      <td>Sedgwick St &amp; North Ave</td>\n",
       "      <td>27.0</td>\n",
       "      <td>...</td>\n",
       "      <td>0</td>\n",
       "      <td>1</td>\n",
       "      <td>0</td>\n",
       "      <td>2017-01-01</td>\n",
       "      <td>27.0</td>\n",
       "      <td>2.559808</td>\n",
       "      <td>0</td>\n",
       "      <td>1</td>\n",
       "      <td>0</td>\n",
       "      <td>1</td>\n",
       "    </tr>\n",
       "    <tr>\n",
       "      <th>4</th>\n",
       "      <td>12979235</td>\n",
       "      <td>2017-01-01 00:10:44</td>\n",
       "      <td>2017-01-01 00:21:27</td>\n",
       "      <td>670</td>\n",
       "      <td>10.716667</td>\n",
       "      <td>47</td>\n",
       "      <td>State St &amp; Kinzie St</td>\n",
       "      <td>175</td>\n",
       "      <td>Wells St &amp; Polk St</td>\n",
       "      <td>47.0</td>\n",
       "      <td>...</td>\n",
       "      <td>0</td>\n",
       "      <td>1</td>\n",
       "      <td>0</td>\n",
       "      <td>2017-01-01</td>\n",
       "      <td>27.0</td>\n",
       "      <td>2.371800</td>\n",
       "      <td>0</td>\n",
       "      <td>1</td>\n",
       "      <td>0</td>\n",
       "      <td>1</td>\n",
       "    </tr>\n",
       "  </tbody>\n",
       "</table>\n",
       "<p>5 rows × 30 columns</p>\n",
       "</div>"
      ],
      "text/plain": [
       "    trip_id          start_time            end_time  bikeid  tripduration  \\\n",
       "0  12979231 2017-01-01 00:02:54 2017-01-01 00:08:21    3660      5.450000   \n",
       "1  12979232 2017-01-01 00:06:06 2017-01-01 00:18:31    4992     12.416667   \n",
       "2  12979233 2017-01-01 00:07:28 2017-01-01 00:12:51    5637      5.383333   \n",
       "3  12979234 2017-01-01 00:07:57 2017-01-01 00:20:53    2209     12.933333   \n",
       "4  12979235 2017-01-01 00:10:44 2017-01-01 00:21:27     670     10.716667   \n",
       "\n",
       "   from_station_id                     from_station_name  to_station_id  \\\n",
       "0               28            Larrabee St & Menomonee St             20   \n",
       "1              620  Orleans St & Chestnut St (NEXT Apts)            333   \n",
       "2              287               Franklin St & Monroe St             68   \n",
       "3              300                  Broadway & Barry Ave            118   \n",
       "4               47                  State St & Kinzie St            175   \n",
       "\n",
       "                to_station_name   age  ...  hour  weekend  holiday       DATE  \\\n",
       "0  Sheffield Ave & Kingsbury St  33.0  ...     0        1        0 2017-01-01   \n",
       "1    Ashland Ave & Blackhawk St  32.0  ...     0        1        0 2017-01-01   \n",
       "2        Clinton St & Tilden St  27.0  ...     0        1        0 2017-01-01   \n",
       "3       Sedgwick St & North Ave  27.0  ...     0        1        0 2017-01-01   \n",
       "4            Wells St & Polk St  47.0  ...     0        1        0 2017-01-01   \n",
       "\n",
       "   TAVG log_tripduration  user_Customer  user_Subscriber  gender_Female  \\\n",
       "0  27.0         1.695616              0                1              0   \n",
       "1  27.0         2.519040              0                1              0   \n",
       "2  27.0         1.683308              0                1              0   \n",
       "3  27.0         2.559808              0                1              0   \n",
       "4  27.0         2.371800              0                1              0   \n",
       "\n",
       "   gender_Male  \n",
       "0            1  \n",
       "1            1  \n",
       "2            1  \n",
       "3            1  \n",
       "4            1  \n",
       "\n",
       "[5 rows x 30 columns]"
      ]
     },
     "execution_count": 226,
     "metadata": {},
     "output_type": "execute_result"
    }
   ],
   "source": [
    "df.head() #now the dataset looks like this"
   ]
  },
  {
   "cell_type": "code",
   "execution_count": 240,
   "metadata": {},
   "outputs": [
    {
     "data": {
      "text/plain": [
       "(2934629, 31)"
      ]
     },
     "execution_count": 240,
     "metadata": {},
     "output_type": "execute_result"
    }
   ],
   "source": [
    "df.shape"
   ]
  },
  {
   "cell_type": "code",
   "execution_count": 227,
   "metadata": {},
   "outputs": [],
   "source": [
    "# export the dataset\n",
    "df.to_csv(\"Divvy_Trips_Model.csv\", index=False)"
   ]
  },
  {
   "cell_type": "code",
   "execution_count": null,
   "metadata": {},
   "outputs": [],
   "source": []
  }
 ],
 "metadata": {
  "kernelspec": {
   "display_name": "Python 3",
   "language": "python",
   "name": "python3"
  },
  "language_info": {
   "codemirror_mode": {
    "name": "ipython",
    "version": 3
   },
   "file_extension": ".py",
   "mimetype": "text/x-python",
   "name": "python",
   "nbconvert_exporter": "python",
   "pygments_lexer": "ipython3",
   "version": "3.7.3"
  }
 },
 "nbformat": 4,
 "nbformat_minor": 2
}
