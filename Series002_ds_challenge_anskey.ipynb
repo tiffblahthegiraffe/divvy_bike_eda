{
  "nbformat": 4,
  "nbformat_minor": 0,
  "metadata": {
    "colab": {
      "name": "Series002_ds_challenge_anskey.ipynb",
      "provenance": [],
      "authorship_tag": "ABX9TyNRSKmQyCJ0pUZfQfoHy3IO",
      "include_colab_link": true
    },
    "kernelspec": {
      "name": "python3",
      "display_name": "Python 3"
    }
  },
  "cells": [
    {
      "cell_type": "markdown",
      "metadata": {
        "id": "view-in-github",
        "colab_type": "text"
      },
      "source": [
        "<a href=\"https://colab.research.google.com/github/tiffblahthegiraffe/divvy_bike_eda/blob/main/Series002_ds_challenge_anskey.ipynb\" target=\"_parent\"><img src=\"https://colab.research.google.com/assets/colab-badge.svg\" alt=\"Open In Colab\"/></a>"
      ]
    },
    {
      "cell_type": "markdown",
      "metadata": {
        "id": "2ROAt33_HM-s"
      },
      "source": [
        "# Import dependencies"
      ]
    },
    {
      "cell_type": "code",
      "metadata": {
        "id": "Z6Y6-W7Y_01D"
      },
      "source": [
        "import pandas as pd\n",
        "import numpy as np\n",
        "import datetime\n",
        "from geopy.distance import distance\n",
        "\n",
        "import matplotlib.pyplot as plt\n",
        "%matplotlib inline\n",
        "plt.style.use('seaborn')\n",
        "import seaborn as sns\n",
        "\n",
        "import warnings\n",
        "warnings.filterwarnings(\"ignore\")"
      ],
      "execution_count": 46,
      "outputs": []
    },
    {
      "cell_type": "code",
      "metadata": {
        "id": "fAJNum1dEbQv"
      },
      "source": [
        "#!pip install -U -q PyDrive\n",
        "from pydrive.auth import GoogleAuth\n",
        "from pydrive.drive import GoogleDrive\n",
        "from google.colab import auth, files\n",
        "from oauth2client.client import GoogleCredentials"
      ],
      "execution_count": 3,
      "outputs": []
    },
    {
      "cell_type": "code",
      "metadata": {
        "id": "_RAUxyA72s-x"
      },
      "source": [
        "def drive_import(id):\n",
        "  downloaded = drive.CreateFile({'id':id}) \n",
        "  downloaded.GetContentFile('Filename.csv')\n",
        "  df= pd.read_csv('Filename.csv')\n",
        "  return df"
      ],
      "execution_count": null,
      "outputs": []
    },
    {
      "cell_type": "markdown",
      "metadata": {
        "id": "e88fDLI8HUj2"
      },
      "source": [
        "### Load in datasets\n",
        "Skip these steps of data pre-processing and jump directly to Task 1"
      ]
    },
    {
      "cell_type": "code",
      "metadata": {
        "id": "1i1bHdirz_Cu"
      },
      "source": [
        "# Authenticate and create the PyDrive client.\n",
        "auth.authenticate_user()\n",
        "gauth = GoogleAuth()\n",
        "gauth.credentials = GoogleCredentials.get_application_default()\n",
        "drive = GoogleDrive(gauth)"
      ],
      "execution_count": 59,
      "outputs": []
    },
    {
      "cell_type": "code",
      "metadata": {
        "id": "DMgWC7JzF39r"
      },
      "source": [
        "# get sharable file ids from google drive\n",
        "id = ['1RAT3tcbYkWpvUtu5C6361GV9tV-muPtf', '1RTc2wG3koWToGFAkdS4CMqijycICxy1m','1DyEduzeeZhxq2T_ThKtH7IQAdAQWa3LQ']"
      ],
      "execution_count": 23,
      "outputs": []
    },
    {
      "cell_type": "code",
      "metadata": {
        "id": "q-olSbTZF4JG"
      },
      "source": [
        "# Stations dataset of 2017 Q1 - Q2\n",
        "st = drive_import(id[0])\n",
        "\n",
        "# Trips dataset of 2017 Q1\n",
        "tp1 = drive_import(id[1])\n",
        "\n",
        "# Trips dataset of 2017 Q2\n",
        "tp2 = drive_import(id[2])"
      ],
      "execution_count": 27,
      "outputs": []
    },
    {
      "cell_type": "code",
      "metadata": {
        "id": "dgspJDCGWCWr"
      },
      "source": [
        ""
      ],
      "execution_count": null,
      "outputs": []
    },
    {
      "cell_type": "markdown",
      "metadata": {
        "id": "9gbZnZ7HWtgT"
      },
      "source": [
        "### Data Cleaning\n",
        "\n",
        "modify the datset to do EDA"
      ]
    },
    {
      "cell_type": "code",
      "metadata": {
        "id": "Pn5kXyh1WyVX"
      },
      "source": [
        "tp = pd.concat([tp1, tp2]) # joining Q1, Q2 trips dataset\n",
        "tp['age'] = tp.birthyear.apply(lambda x: 2017.0-x) # get the age info from birthyear column\n",
        "tp = tp.drop('birthyear',axis = 1)\n",
        "tp['tripduration'] = tp.tripduration/60.0 # transform trip duration to by minutes scale"
      ],
      "execution_count": 38,
      "outputs": []
    },
    {
      "cell_type": "code",
      "metadata": {
        "id": "ED_0B3qtXe90"
      },
      "source": [
        "# use temporary station dataset to get from_station coordinates and to_station coordinates\n",
        "st2 = st[['id','latitude','longitude']].rename(columns = {'latitude':'from_latitude',\n",
        "                                                          'longitude':'from_longitude'})\n",
        "st3 = st[['id','latitude','longitude']].rename(columns = {'latitude':'to_latitude',\n",
        "                                                          'longitude':'to_longitude'})\n",
        "# merge from station information\n",
        "df = tp.merge(st2, how='left', left_on = 'from_station_id', right_on = 'id')\n",
        "\n",
        "# merge to station information\n",
        "df = df.merge(st3, how='left', left_on = 'to_station_id', right_on = 'id')\n",
        "\n",
        "df = df.drop_duplicates(subset=['trip_id']).reset_index(drop=True)\n",
        "df = df.drop(columns=['id_x','id_y'])"
      ],
      "execution_count": 39,
      "outputs": []
    },
    {
      "cell_type": "code",
      "metadata": {
        "id": "bnbjsPyQthjN"
      },
      "source": [
        "# Calculate distance (miles)\n",
        "def get_distance(x):\n",
        "    '''\n",
        "    This function return travel distance in miles for each row\n",
        "    '''\n",
        "    return distance(x['from'], x['to']).miles\n",
        "\n",
        "df['from'] = list(zip(df.from_latitude, df.from_longitude))\n",
        "df['to'] = list(zip(df.to_latitude, df.to_longitude))\n",
        "df['dis_travel'] = df.apply(get_distance, axis=1)"
      ],
      "execution_count": 47,
      "outputs": []
    },
    {
      "cell_type": "code",
      "metadata": {
        "id": "kOmeAh3OyFU9"
      },
      "source": [
        "# calculate speed (miles/hr)\n",
        "def get_speed(x):\n",
        "    \"\"\"\n",
        "    This function return the speed of each trip\n",
        "    \"\"\"\n",
        "    return x['dis_travel']/(x['tripduration']/60.0)\n",
        "\n",
        "df['speed'] = df.apply(get_speed,axis=1)"
      ],
      "execution_count": 53,
      "outputs": []
    },
    {
      "cell_type": "code",
      "metadata": {
        "id": "smB-mbOxvCVp"
      },
      "source": [
        "# Export the cleaned EDA dataset\n",
        "df.to_csv('divvy_bike_clean.csv')\n",
        "files.download('divvy_bike_clean.csv')"
      ],
      "execution_count": 55,
      "outputs": []
    },
    {
      "cell_type": "markdown",
      "metadata": {
        "id": "8e719K5L1tY1"
      },
      "source": [
        "#Skip the above data pre-processing\n",
        "\n",
        "\n",
        "---\n",
        "\n",
        "The above code took around 10 mins to run. <br>\n",
        "Start running the cell from below.\n",
        "\n"
      ]
    },
    {
      "cell_type": "code",
      "metadata": {
        "id": "Dms-QTLi2gmK"
      },
      "source": [
        "# Load in the cleaned up dataset from google drive\n",
        "clean_id = '1k3Vf7El-M3uXzUZeiwni-z_09g05KZz_'\n",
        "df = drive_import(clean_id)"
      ],
      "execution_count": null,
      "outputs": []
    },
    {
      "cell_type": "code",
      "metadata": {
        "id": "zuzMJMXB5Gn3"
      },
      "source": [
        "# Export the cleaned EDA dataset to your local drive if you like\n",
        "# else, please skip this cell\n",
        "df.to_csv('divvy_bike_clean.csv')\n",
        "files.download('divvy_bike_clean.csv')"
      ],
      "execution_count": null,
      "outputs": []
    },
    {
      "cell_type": "markdown",
      "metadata": {
        "id": "1_r8fZ9GkOm9"
      },
      "source": [
        "## Task 1: Plot the Top 5 stations with the most starts \n",
        "Please find the best way to showcase number of starts for each stations using the already created **q1** dataframe or you can build your solution from scratch.\n",
        "\n",
        "You can use whatever visualization packages, any other programming languages you prefer or any dashboard software available."
      ]
    },
    {
      "cell_type": "code",
      "metadata": {
        "colab": {
          "base_uri": "https://localhost:8080/",
          "height": 204
        },
        "id": "PEjpfzUSkg8p",
        "outputId": "1b214011-5c87-40af-cf77-fa34879de5fe"
      },
      "source": [
        "q1 = pd.DataFrame(df.groupby(['from_station_id','from_station_name'])['from_station_name'].count().sort_values(ascending=False).head())\n",
        "q1 = q1.rename(columns = {'from_station_name':'number_of_trips'}).reset_index()\n",
        "q1"
      ],
      "execution_count": 62,
      "outputs": [
        {
          "output_type": "execute_result",
          "data": {
            "text/html": [
              "<div>\n",
              "<style scoped>\n",
              "    .dataframe tbody tr th:only-of-type {\n",
              "        vertical-align: middle;\n",
              "    }\n",
              "\n",
              "    .dataframe tbody tr th {\n",
              "        vertical-align: top;\n",
              "    }\n",
              "\n",
              "    .dataframe thead th {\n",
              "        text-align: right;\n",
              "    }\n",
              "</style>\n",
              "<table border=\"1\" class=\"dataframe\">\n",
              "  <thead>\n",
              "    <tr style=\"text-align: right;\">\n",
              "      <th></th>\n",
              "      <th>from_station_id</th>\n",
              "      <th>from_station_name</th>\n",
              "      <th>number_of_trips</th>\n",
              "    </tr>\n",
              "  </thead>\n",
              "  <tbody>\n",
              "    <tr>\n",
              "      <th>0</th>\n",
              "      <td>35</td>\n",
              "      <td>Streeter Dr &amp; Grand Ave</td>\n",
              "      <td>36684</td>\n",
              "    </tr>\n",
              "    <tr>\n",
              "      <th>1</th>\n",
              "      <td>91</td>\n",
              "      <td>Clinton St &amp; Washington Blvd</td>\n",
              "      <td>22429</td>\n",
              "    </tr>\n",
              "    <tr>\n",
              "      <th>2</th>\n",
              "      <td>76</td>\n",
              "      <td>Lake Shore Dr &amp; Monroe St</td>\n",
              "      <td>21820</td>\n",
              "    </tr>\n",
              "    <tr>\n",
              "      <th>3</th>\n",
              "      <td>77</td>\n",
              "      <td>Clinton St &amp; Madison St</td>\n",
              "      <td>19098</td>\n",
              "    </tr>\n",
              "    <tr>\n",
              "      <th>4</th>\n",
              "      <td>192</td>\n",
              "      <td>Canal St &amp; Adams St</td>\n",
              "      <td>18105</td>\n",
              "    </tr>\n",
              "  </tbody>\n",
              "</table>\n",
              "</div>"
            ],
            "text/plain": [
              "   from_station_id             from_station_name  number_of_trips\n",
              "0               35       Streeter Dr & Grand Ave            36684\n",
              "1               91  Clinton St & Washington Blvd            22429\n",
              "2               76     Lake Shore Dr & Monroe St            21820\n",
              "3               77       Clinton St & Madison St            19098\n",
              "4              192           Canal St & Adams St            18105"
            ]
          },
          "metadata": {
            "tags": []
          },
          "execution_count": 62
        }
      ]
    },
    {
      "cell_type": "code",
      "metadata": {
        "colab": {
          "base_uri": "https://localhost:8080/",
          "height": 461
        },
        "id": "HAzGLGTvkhGe",
        "outputId": "0821f99f-976a-4e23-b151-f47ac173a852"
      },
      "source": [
        "### TODO: your code here\n",
        "\n",
        "plt.bar(q1.from_station_name,q1.number_of_trips, color =sns.color_palette(\"Blues_d\",5), alpha = 0.85)\n",
        "plt.xticks(rotation=30)\n",
        "plt.xlabel('From Station', fontsize = 13, weight = 'bold')\n",
        "plt.ylabel('# of Trips', fontsize = 13, weight = 'bold')\n",
        "plt.title('Top 5 Start Stations', fontsize = 15, weight = 'bold')\n"
      ],
      "execution_count": 64,
      "outputs": [
        {
          "output_type": "execute_result",
          "data": {
            "text/plain": [
              "Text(0.5, 1.0, 'Top 5 Start Stations')"
            ]
          },
          "metadata": {
            "tags": []
          },
          "execution_count": 64
        },
        {
          "output_type": "display_data",
          "data": {
            "image/png": "[encoded data removed]",
            "text/plain": [
              "<Figure size 576x396 with 1 Axes>"
            ]
          },
          "metadata": {
            "tags": []
          }
        }
      ]
    },
    {
      "cell_type": "markdown",
      "metadata": {
        "id": "QXrZISw0mL65"
      },
      "source": [
        "## Task 2:  Plot the rider performance by Gender and Age based on median speed (distance traveled / trip duration)\n",
        "\n",
        "Please find the best way to showcase median speed for each gender group and age bin. Feel free to leverage the already created **q2** dataframe or build your solution from scratch.\n",
        "\n",
        "You can use whatever visualization packages, any other programming languages you prefer or any dashboard software available.\n",
        "\n"
      ]
    },
    {
      "cell_type": "code",
      "metadata": {
        "colab": {
          "base_uri": "https://localhost:8080/"
        },
        "id": "uVavy36FxXuF",
        "outputId": "9aac0291-bff8-4d3e-8761-eb3d009b7bd0"
      },
      "source": [
        " # check if there's missing value in our dataset\n",
        " df.isnull().sum(0) #there missing values for gender and age"
      ],
      "execution_count": 65,
      "outputs": [
        {
          "output_type": "execute_result",
          "data": {
            "text/plain": [
              "Unnamed: 0                0\n",
              "trip_id                   0\n",
              "start_time                0\n",
              "end_time                  0\n",
              "bikeid                    0\n",
              "tripduration              0\n",
              "from_station_id           0\n",
              "from_station_name         0\n",
              "to_station_id             0\n",
              "to_station_name           0\n",
              "usertype                  0\n",
              "gender               316856\n",
              "age                  316672\n",
              "from_latitude             0\n",
              "from_longitude            0\n",
              "to_latitude               0\n",
              "to_longitude              0\n",
              "from                      0\n",
              "to                        0\n",
              "dis_travel                0\n",
              "speed                     0\n",
              "dtype: int64"
            ]
          },
          "metadata": {
            "tags": []
          },
          "execution_count": 65
        }
      ]
    },
    {
      "cell_type": "code",
      "metadata": {
        "colab": {
          "base_uri": "https://localhost:8080/"
        },
        "id": "h5konbuA4Fgn",
        "outputId": "61596a33-dc73-4412-a6a6-03ee9d29ebd6"
      },
      "source": [
        "df = df.dropna() # drop missing value \n",
        "df.shape"
      ],
      "execution_count": 66,
      "outputs": [
        {
          "output_type": "execute_result",
          "data": {
            "text/plain": [
              "(1234638, 21)"
            ]
          },
          "metadata": {
            "tags": []
          },
          "execution_count": 66
        }
      ]
    },
    {
      "cell_type": "code",
      "metadata": {
        "colab": {
          "base_uri": "https://localhost:8080/"
        },
        "id": "0GxMWvaK4Vfb",
        "outputId": "10c9b95a-60f8-4bcc-ad37-e0c0b902016b"
      },
      "source": [
        "# Explore age range\n",
        "# Looks like there're quite a bit of outliers in the dataset\n",
        "df.age.value_counts().sort_index()"
      ],
      "execution_count": 70,
      "outputs": [
        {
          "output_type": "execute_result",
          "data": {
            "text/plain": [
              "1.0      14\n",
              "13.0     14\n",
              "14.0     13\n",
              "15.0      8\n",
              "16.0     71\n",
              "         ..\n",
              "108.0     9\n",
              "111.0    26\n",
              "116.0    41\n",
              "117.0    97\n",
              "118.0    52\n",
              "Name: age, Length: 82, dtype: int64"
            ]
          },
          "metadata": {
            "tags": []
          },
          "execution_count": 70
        }
      ]
    },
    {
      "cell_type": "code",
      "metadata": {
        "id": "EIYCmRLT4Mdu"
      },
      "source": [
        "# Create age bins by removing outliers\n",
        "df['age_bin'] = pd.cut(df.age, [17,25,35,45,55,65,70],\n",
        "                       labels=['17-25','25-35','35-45','45-55','55-65', '65-70'])"
      ],
      "execution_count": 71,
      "outputs": []
    },
    {
      "cell_type": "code",
      "metadata": {
        "colab": {
          "base_uri": "https://localhost:8080/",
          "height": 452
        },
        "id": "q01tsVje4yZX",
        "outputId": "9308500c-eb78-44a8-e82b-84e3ae157ce5"
      },
      "source": [
        "q4 = df.pivot_table(index=['gender','age_bin'], \n",
        "                    values=['speed','dis_travel'],\n",
        "                    aggfunc={'speed':'median','dis_travel':'mean'}).rename(columns = {'dis_travel':'avg_trip_distance',\n",
        "                                                                                      'speed':'median_speed'})\n",
        "q4"
      ],
      "execution_count": 72,
      "outputs": [
        {
          "output_type": "execute_result",
          "data": {
            "text/html": [
              "<div>\n",
              "<style scoped>\n",
              "    .dataframe tbody tr th:only-of-type {\n",
              "        vertical-align: middle;\n",
              "    }\n",
              "\n",
              "    .dataframe tbody tr th {\n",
              "        vertical-align: top;\n",
              "    }\n",
              "\n",
              "    .dataframe thead th {\n",
              "        text-align: right;\n",
              "    }\n",
              "</style>\n",
              "<table border=\"1\" class=\"dataframe\">\n",
              "  <thead>\n",
              "    <tr style=\"text-align: right;\">\n",
              "      <th></th>\n",
              "      <th></th>\n",
              "      <th>avg_trip_distance</th>\n",
              "      <th>median_speed</th>\n",
              "    </tr>\n",
              "    <tr>\n",
              "      <th>gender</th>\n",
              "      <th>age_bin</th>\n",
              "      <th></th>\n",
              "      <th></th>\n",
              "    </tr>\n",
              "  </thead>\n",
              "  <tbody>\n",
              "    <tr>\n",
              "      <th rowspan=\"6\" valign=\"top\">Female</th>\n",
              "      <th>17-25</th>\n",
              "      <td>1.247736</td>\n",
              "      <td>6.069781</td>\n",
              "    </tr>\n",
              "    <tr>\n",
              "      <th>25-35</th>\n",
              "      <td>1.287414</td>\n",
              "      <td>6.298900</td>\n",
              "    </tr>\n",
              "    <tr>\n",
              "      <th>35-45</th>\n",
              "      <td>1.262725</td>\n",
              "      <td>6.040337</td>\n",
              "    </tr>\n",
              "    <tr>\n",
              "      <th>45-55</th>\n",
              "      <td>1.137837</td>\n",
              "      <td>5.723989</td>\n",
              "    </tr>\n",
              "    <tr>\n",
              "      <th>55-65</th>\n",
              "      <td>1.064981</td>\n",
              "      <td>5.373917</td>\n",
              "    </tr>\n",
              "    <tr>\n",
              "      <th>65-70</th>\n",
              "      <td>1.007098</td>\n",
              "      <td>4.629357</td>\n",
              "    </tr>\n",
              "    <tr>\n",
              "      <th rowspan=\"6\" valign=\"top\">Male</th>\n",
              "      <th>17-25</th>\n",
              "      <td>1.108933</td>\n",
              "      <td>6.620491</td>\n",
              "    </tr>\n",
              "    <tr>\n",
              "      <th>25-35</th>\n",
              "      <td>1.216929</td>\n",
              "      <td>6.815174</td>\n",
              "    </tr>\n",
              "    <tr>\n",
              "      <th>35-45</th>\n",
              "      <td>1.198648</td>\n",
              "      <td>6.619809</td>\n",
              "    </tr>\n",
              "    <tr>\n",
              "      <th>45-55</th>\n",
              "      <td>1.084570</td>\n",
              "      <td>6.281348</td>\n",
              "    </tr>\n",
              "    <tr>\n",
              "      <th>55-65</th>\n",
              "      <td>1.010389</td>\n",
              "      <td>5.830090</td>\n",
              "    </tr>\n",
              "    <tr>\n",
              "      <th>65-70</th>\n",
              "      <td>0.991131</td>\n",
              "      <td>5.466093</td>\n",
              "    </tr>\n",
              "  </tbody>\n",
              "</table>\n",
              "</div>"
            ],
            "text/plain": [
              "                avg_trip_distance  median_speed\n",
              "gender age_bin                                 \n",
              "Female 17-25             1.247736      6.069781\n",
              "       25-35             1.287414      6.298900\n",
              "       35-45             1.262725      6.040337\n",
              "       45-55             1.137837      5.723989\n",
              "       55-65             1.064981      5.373917\n",
              "       65-70             1.007098      4.629357\n",
              "Male   17-25             1.108933      6.620491\n",
              "       25-35             1.216929      6.815174\n",
              "       35-45             1.198648      6.619809\n",
              "       45-55             1.084570      6.281348\n",
              "       55-65             1.010389      5.830090\n",
              "       65-70             0.991131      5.466093"
            ]
          },
          "metadata": {
            "tags": []
          },
          "execution_count": 72
        }
      ]
    },
    {
      "cell_type": "code",
      "metadata": {
        "colab": {
          "base_uri": "https://localhost:8080/",
          "height": 408
        },
        "id": "MZu_jDEy40QM",
        "outputId": "e131c742-b1f4-4548-9bc2-50beaa7f56a1"
      },
      "source": [
        "### TODO: your code here\n",
        "\n",
        "dis = df.pivot_table(index='age_bin', \n",
        "               columns='gender', \n",
        "               values='dis_travel',aggfunc='mean')\n",
        "dis.plot.bar(color=['pink','lightblue'])\n",
        "plt.xticks(rotation=30)\n",
        "plt.xlabel('Ages', fontsize = 13, weight = 'bold')\n",
        "plt.ylabel('Avg Distance (miles)', fontsize = 13, weight = 'bold')\n",
        "plt.title('Avg Trip Distance', fontsize = 15, weight = 'bold')"
      ],
      "execution_count": 73,
      "outputs": [
        {
          "output_type": "execute_result",
          "data": {
            "text/plain": [
              "Text(0.5, 1.0, 'Avg Trip Distance')"
            ]
          },
          "metadata": {
            "tags": []
          },
          "execution_count": 73
        },
        {
          "output_type": "display_data",
          "data": {
            "image/png": "[encoded data removed]",
            "text/plain": [
              "<Figure size 576x396 with 1 Axes>"
            ]
          },
          "metadata": {
            "tags": []
          }
        }
      ]
    },
    {
      "cell_type": "code",
      "metadata": {
        "id": "417mkANS46Bs"
      },
      "source": [
        ""
      ],
      "execution_count": null,
      "outputs": []
    }
  ]
}